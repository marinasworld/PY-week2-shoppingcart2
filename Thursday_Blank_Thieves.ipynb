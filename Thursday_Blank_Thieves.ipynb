{
 "cells": [
  {
   "cell_type": "markdown",
   "metadata": {},
   "source": [
    "# Object-Oriented-Programming (OOP)"
   ]
  },
  {
   "cell_type": "markdown",
   "metadata": {},
   "source": [
    "## Tasks Today:\n",
    "\n",
    "   \n",
    "\n",
    "1) <b>Creating a Class (Initializing/Declaring)</b> <br>\n",
    "2) <b>Using a Class (Instantiating)</b> <br>\n",
    " &nbsp;&nbsp;&nbsp;&nbsp; a) Creating One Instance <br>\n",
    " &nbsp;&nbsp;&nbsp;&nbsp; b) Creating Multiple Instances <br>\n",
    " &nbsp;&nbsp;&nbsp;&nbsp; c) In-Class Exercise #1 - Create a Class 'Car' and instantiate three different makes of cars <br>\n",
    "3) <b>The \\__init\\__() Method</b> <br>\n",
    " &nbsp;&nbsp;&nbsp;&nbsp; a) The 'self' Attribute <br>\n",
    "4) <b>Class Attributes</b> <br>\n",
    " &nbsp;&nbsp;&nbsp;&nbsp; a) Initializing Attributes <br>\n",
    " &nbsp;&nbsp;&nbsp;&nbsp; b) Setting an Attribute Outside of the \\__init\\__() Method <br>\n",
    " &nbsp;&nbsp;&nbsp;&nbsp; c) Setting Defaults for Attributes <br>\n",
    " &nbsp;&nbsp;&nbsp;&nbsp; d) Accessing Class Attributes <br>\n",
    " &nbsp;&nbsp;&nbsp;&nbsp; e) Changing Class Attributes <br>\n",
    " &nbsp;&nbsp;&nbsp;&nbsp; f) In-Class Exercise #2 - Add a color and wheels attribute to your 'Car' class <br>\n",
    "5) <b>Class Methods</b> <br>\n",
    " &nbsp;&nbsp;&nbsp;&nbsp; a) Creating <br>\n",
    " &nbsp;&nbsp;&nbsp;&nbsp; b) Calling <br>\n",
    " &nbsp;&nbsp;&nbsp;&nbsp; c) Modifying an Attribute's Value Through a Method <br>\n",
    " &nbsp;&nbsp;&nbsp;&nbsp; d) Incrementing an Attribute's Value Through a Method <br>\n",
    " &nbsp;&nbsp;&nbsp;&nbsp; e) In-Class Exercise #3 - Add a method that prints the cars color and wheel number, then call them <br>\n",
    "6) <b>Inheritance</b> <br>\n",
    " &nbsp;&nbsp;&nbsp;&nbsp; a) Syntax for Inheriting from a Parent Class <br>\n",
    " &nbsp;&nbsp;&nbsp;&nbsp; b) The \\__init\\__() Method for a Child Class (super()) <br>\n",
    " &nbsp;&nbsp;&nbsp;&nbsp; c) Defining Attributes and Methods for the Child Class <br>\n",
    " &nbsp;&nbsp;&nbsp;&nbsp; d) Method Overriding <br>\n",
    " &nbsp;&nbsp;&nbsp;&nbsp; e) In-Class Exercise #4 - Create a class 'Ford' that inherits from 'Car' class and initialize it as a Blue Ford Explorer with 4 wheels using the super() method <br>\n",
    "7) <b>Classes as Attributes</b> <br>\n",
    "8) <b>Exercises</b> <br>\n",
    " &nbsp;&nbsp;&nbsp;&nbsp; a) Exercise #1 - Turn the shopping cart program from yesterday into an object-oriented program <br>"
   ]
  },
  {
   "cell_type": "markdown",
   "metadata": {},
   "source": [
    "## Creating a Class (Initializing/Declaring)\n",
    "<p>When creating a class, function, or even a variable you are initializing that object. Initializing and Declaring occur at the same time in Python, whereas in lower level languages you have to declare an object before initializing it. This is the first step in the process of using a class.</p>"
   ]
  },
  {
   "cell_type": "code",
   "execution_count": 1,
   "metadata": {},
   "outputs": [],
   "source": [
    "\n",
    "class Ford():\n",
    "    wheels = 4\n",
    "    color = 'blue'"
   ]
  },
  {
   "cell_type": "markdown",
   "metadata": {},
   "source": [
    "## Using a Class (Instantiating)\n",
    "<p>The process of creating a class is called <i>Instantiating</i>. Each time you create a variable of that type of class, it is referred to as an <i>Instance</i> of that class. This is the second step in the process of using a class.</p>"
   ]
  },
  {
   "cell_type": "markdown",
   "metadata": {},
   "source": [
    "##### Creating One Instance"
   ]
  },
  {
   "cell_type": "code",
   "execution_count": 5,
   "metadata": {},
   "outputs": [
    {
     "name": "stdout",
     "output_type": "stream",
     "text": [
      "blue\n"
     ]
    }
   ],
   "source": [
    "fusion = Ford()\n",
    "\n",
    "print(fusion.color)"
   ]
  },
  {
   "cell_type": "markdown",
   "metadata": {},
   "source": [
    "##### Creating Multiple Instances"
   ]
  },
  {
   "cell_type": "code",
   "execution_count": 6,
   "metadata": {},
   "outputs": [],
   "source": [
    "f_150 = Ford()\n",
    "explorer = Ford()\n",
    "mustang = Ford()"
   ]
  },
  {
   "cell_type": "markdown",
   "metadata": {},
   "source": [
    "##### In-Class Exercise #1 - Create a Class 'Car' and Instantiate three different makes of cars"
   ]
  },
  {
   "cell_type": "code",
   "execution_count": null,
   "metadata": {},
   "outputs": [],
   "source": []
  },
  {
   "cell_type": "markdown",
   "metadata": {},
   "source": [
    "## The \\__init\\__() Method <br>\n",
    "<p>This method is used in almost every created class, and called only once upon the creation of the class instance. This method will initialize all variables needed for the object.</p>"
   ]
  },
  {
   "cell_type": "code",
   "execution_count": 9,
   "metadata": {},
   "outputs": [
    {
     "name": "stdout",
     "output_type": "stream",
     "text": [
      "4\n"
     ]
    }
   ],
   "source": [
    "\n",
    "class Ford():\n",
    "    wheels = 4 #Class attribute\n",
    "\n",
    "    def __init__(self, year, color, engine): #Instance attributes\n",
    "        self.year = year\n",
    "        self.color = color\n",
    "        self.engine = engine\n",
    "\n",
    "fusion = Ford('2017', 'white','v4')\n",
    "\n",
    "print(fusion.wheels)"
   ]
  },
  {
   "cell_type": "markdown",
   "metadata": {},
   "source": [
    "##### The 'self' Attribute <br>\n",
    "<p>This attribute is required to keep track of specific instance's attributes. Without the self attribute, the program would not know how to reference or keep track of an instance's attributes.</p>"
   ]
  },
  {
   "cell_type": "code",
   "execution_count": null,
   "metadata": {},
   "outputs": [],
   "source": [
    "# see above"
   ]
  },
  {
   "cell_type": "markdown",
   "metadata": {},
   "source": [
    "## Class Attributes <br>\n",
    "<p>While variables are inside of a class, they are referred to as attributes and not variables. When someone says 'attribute' you know they're speaking about a class. Attributes can be initialized through the init method, or outside of it.</p>"
   ]
  },
  {
   "cell_type": "markdown",
   "metadata": {},
   "source": [
    "##### Initializing Attributes"
   ]
  },
  {
   "cell_type": "code",
   "execution_count": 10,
   "metadata": {},
   "outputs": [
    {
     "name": "stdout",
     "output_type": "stream",
     "text": [
      "4\n"
     ]
    }
   ],
   "source": [
    "# see above\n",
    "\n"
   ]
  },
  {
   "cell_type": "markdown",
   "metadata": {},
   "source": [
    "##### Accessing Class Attributes"
   ]
  },
  {
   "cell_type": "code",
   "execution_count": null,
   "metadata": {
    "scrolled": true
   },
   "outputs": [],
   "source": [
    "# See Above\n",
    "print(fusion.wheels)"
   ]
  },
  {
   "cell_type": "markdown",
   "metadata": {},
   "source": [
    "##### Setting Defaults for Attributes"
   ]
  },
  {
   "cell_type": "code",
   "execution_count": 12,
   "metadata": {},
   "outputs": [
    {
     "name": "stdout",
     "output_type": "stream",
     "text": [
      "4\n",
      "6\n"
     ]
    }
   ],
   "source": [
    "class Ford():\n",
    "   #Class attribute\n",
    "\n",
    "    def __init__(self, year, color, engine, wheels = 4): #Instance attributes\n",
    "        self.year = year\n",
    "        self.color = color\n",
    "        self.engine = engine\n",
    "        self.wheels = wheels\n",
    "\n",
    "fusion = Ford('2017', 'white','v4')\n",
    "tow_truck = Ford('1987', 'rust', 'diesel', 6)\n",
    "\n",
    "\n",
    "print(fusion.wheels)\n",
    "print(tow_truck.wheels)"
   ]
  },
  {
   "attachments": {},
   "cell_type": "markdown",
   "metadata": {},
   "source": [
    "##### Changing Instance Attributes <br>\n",
    "<p>Keep in mind there are global class attributes and then there are attributes only available to each class instance which won't effect other classes.</p>"
   ]
  },
  {
   "cell_type": "code",
   "execution_count": 14,
   "metadata": {},
   "outputs": [
    {
     "name": "stdout",
     "output_type": "stream",
     "text": [
      "white\n",
      "red\n"
     ]
    }
   ],
   "source": [
    "# see above\n",
    "\n",
    "print(fusion.color)\n",
    "fusion.color = 'red'\n",
    "print(fusion.color)"
   ]
  },
  {
   "cell_type": "markdown",
   "metadata": {},
   "source": [
    "##### In-Class Exercise #2 - Add a doors and seats attribute to your 'Car' class then print out two different instances with different doors and seats"
   ]
  },
  {
   "cell_type": "code",
   "execution_count": null,
   "metadata": {},
   "outputs": [],
   "source": []
  },
  {
   "cell_type": "markdown",
   "metadata": {},
   "source": [
    "## Class Methods <br>\n",
    "<p>While inside of a class, functions are referred to as 'methods'. If you hear someone mention methods, they're speaking about classes. Methods are essentially functions, but only callable on the instances of a class.</p>"
   ]
  },
  {
   "cell_type": "markdown",
   "metadata": {},
   "source": [
    "##### Creating"
   ]
  },
  {
   "cell_type": "code",
   "execution_count": 23,
   "metadata": {},
   "outputs": [
    {
     "name": "stdout",
     "output_type": "stream",
     "text": [
      "This 4 wheeled vehicle, is white and has a v4 engine.\n",
      "This 6 wheeled vehicle, is rust and has a diesel engine.\n"
     ]
    }
   ],
   "source": [
    "class Ford():\n",
    "   #Class attribute\n",
    "\n",
    "    def __init__(self, year, color, engine, wheels = 4): #Instance attributes\n",
    "        self.year = year\n",
    "        self.color = color\n",
    "        self.engine = engine\n",
    "        self.wheels = wheels\n",
    "\n",
    "    def info(self):\n",
    "        print(f'This {self.wheels} wheeled vehicle, is {self.color} and has a {self.engine} engine.')\n",
    "\n",
    "    def paint_job(self, new_color):\n",
    "        self.color = new_color\n",
    "        print(f'You car color to {new_color}')\n",
    "\n",
    "    def get_wide(self):\n",
    "        self.wheels += 2\n",
    "        print('GET WIDE!')\n",
    "\n",
    "fusion = Ford('2017', 'white','v4')\n",
    "tow_truck = Ford('1987', 'rust', 'diesel', 6)\n",
    "\n",
    "fusion.info()\n",
    "tow_truck.info()\n"
   ]
  },
  {
   "cell_type": "markdown",
   "metadata": {},
   "source": [
    "##### Calling"
   ]
  },
  {
   "cell_type": "code",
   "execution_count": null,
   "metadata": {},
   "outputs": [],
   "source": [
    "# See Above"
   ]
  },
  {
   "cell_type": "markdown",
   "metadata": {},
   "source": [
    "##### Modifying an Attribute's Value Through a Method"
   ]
  },
  {
   "cell_type": "code",
   "execution_count": null,
   "metadata": {},
   "outputs": [],
   "source": [
    "# see above\n",
    "\n",
    "fusion.paint_job('green')\n",
    "fusion.color\n"
   ]
  },
  {
   "cell_type": "markdown",
   "metadata": {},
   "source": [
    "##### Incrementing an Attribute's Value Through a Method"
   ]
  },
  {
   "cell_type": "code",
   "execution_count": 24,
   "metadata": {},
   "outputs": [
    {
     "name": "stdout",
     "output_type": "stream",
     "text": [
      "GET WIDE!\n",
      "8\n"
     ]
    }
   ],
   "source": [
    "# see above\n",
    "\n",
    "tow_truck.get_wide()\n",
    "print(tow_truck.wheels)\n"
   ]
  },
  {
   "cell_type": "markdown",
   "metadata": {},
   "source": [
    "## Inheritance <br>\n",
    "<p>You can create a child-parent relationship between two classes by using inheritance. What this allows you to do is have overriding methods, but also inherit traits from the parent class. Think of it as an actual parent and child, the child will inherit the parent's genes, as will the classes in OOP</p>"
   ]
  },
  {
   "cell_type": "markdown",
   "metadata": {},
   "source": [
    "##### Syntax for Inheriting from a Parent Class"
   ]
  },
  {
   "cell_type": "code",
   "execution_count": 34,
   "metadata": {},
   "outputs": [
    {
     "name": "stdout",
     "output_type": "stream",
     "text": [
      "Hi, I'm Christian and I'm 67 years old!\n",
      "Christian: I think I'd like to have some waffles!\n",
      "Christian has Been BANNED!\n",
      "You ahve no power here, BE GONE!\n",
      "Hi, I'm Dylan and I'm 100 years old!\n",
      "I'm also an admin here if you need anything\n"
     ]
    }
   ],
   "source": [
    "class User():\n",
    "    admin = False\n",
    "    banned = False\n",
    "    def __init__(self, username, password, age, followers=0):\n",
    "        self.username = username\n",
    "        self.password = password\n",
    "        self.age = age\n",
    "        self.followers = followers\n",
    "\n",
    "    def info(self):\n",
    "        if self.banned:\n",
    "            print('You ahve no power here, BE GONE!')\n",
    "            return\n",
    "        print(f'Hi, I\\'m {self.username} and I\\'m {self.age} years old!')\n",
    "        if self.admin:\n",
    "            print('I\\'m also an admin here if you need anything')\n",
    "\n",
    "\n",
    "    def post(self, post):\n",
    "        if self.banned:\n",
    "            print('You ahve no power here, BE GONE!')\n",
    "            return\n",
    "        print(f'{self.username}: {post}')\n",
    "\n",
    "class Admin(User):\n",
    "    admin = True\n",
    "\n",
    "    def __init__(self, username, password, age, calendar=''):\n",
    "        super().__init__(username, password, age)\n",
    "        self.calendar = calendar\n",
    "\n",
    "    def set_calendar(self, url):\n",
    "        self.calendar = url\n",
    "        print('Calendar saved')\n",
    "\n",
    "    def ban_user(self, user):\n",
    "        user.banned = True\n",
    "        print(f'{user.username} has Been BANNED!')\n",
    "\n",
    "christian = User('Christian', 'password', 67, 1)\n",
    "\n",
    "christian.info()\n",
    "\n",
    "christian.post('I think I\\'d like to have some waffles!')\n",
    "\n",
    "dylan = Admin('Dylan', ';oLASNDFGOGNASDGH9APG', 100)\n",
    "\n",
    "dylan.ban_user(christian)\n",
    "\n",
    "christian.post('WAFFLES!')\n",
    "\n",
    "dylan.info()"
   ]
  },
  {
   "cell_type": "markdown",
   "metadata": {},
   "source": [
    "##### The \\__init\\__() Method for a Child Class - super()"
   ]
  },
  {
   "cell_type": "code",
   "execution_count": null,
   "metadata": {
    "scrolled": true
   },
   "outputs": [],
   "source": [
    "# see above"
   ]
  },
  {
   "cell_type": "markdown",
   "metadata": {},
   "source": [
    "##### Defining Attributes and Methods for the Child Class"
   ]
  },
  {
   "cell_type": "code",
   "execution_count": null,
   "metadata": {},
   "outputs": [],
   "source": [
    "# See Above"
   ]
  },
  {
   "cell_type": "markdown",
   "metadata": {},
   "source": [
    "# Exercises"
   ]
  },
  {
   "cell_type": "markdown",
   "metadata": {},
   "source": [
    "### Exercise 1 - Turn the shopping cart program from yesterday into an object-oriented program\n",
    "\n",
    "The comments in the cell below are there as a guide for thinking about the problem. However, if you feel a different way is best for you and your own thought process, please do what feels best for you by all means."
   ]
  },
  {
   "cell_type": "code",
   "execution_count": 2,
   "metadata": {},
   "outputs": [
    {
     "name": "stdout",
     "output_type": "stream",
     "text": [
      "CLASS\n"
     ]
    }
   ],
   "source": [
    "# Create a class called cart that retains items and has methods to add, remove, and show\n",
    "#add a runner method EXTRA CREDDIT\n",
    "\n",
    "#method with a while loop asking add/ remove/ show until user says quite\n",
    "# when the user responds you redirect them to the proper method to add/remove/show\n",
    "\n",
    "class StringManipulator:\n",
    "    def __init__(self):\n",
    "        self.input_string = \"\"\n",
    "\n",
    "    def get_string(self):\n",
    "        self.input_string = input(\"Enter a string: \")\n",
    "\n",
    "    def print_string(self):\n",
    "        if self.input_string:\n",
    "            print(self.input_string.upper())\n",
    "        else:\n",
    "            print(\"No string entered yet.\")\n",
    "\n",
    "# Example usage:\n",
    "string_manipulator = StringManipulator()\n",
    "string_manipulator.get_string()\n",
    "string_manipulator.print_string()\n",
    "    "
   ]
  },
  {
   "cell_type": "markdown",
   "metadata": {},
   "source": [
    "### Exercise 2 - Write a Python class which has two methods get_String and print_String. get_String accept a string from the user and print_String print the string in upper case"
   ]
  },
  {
   "cell_type": "code",
   "execution_count": 1,
   "metadata": {},
   "outputs": [
    {
     "name": "stdout",
     "output_type": "stream",
     "text": [
      "Item1: 2 x $20.99 each\n",
      "Item2: 3 x $15.49 each\n",
      "Total: $88.44999999999999\n"
     ]
    }
   ],
   "source": [
    "class Item:\n",
    "    def __init__(self, name, price, quantity=1):\n",
    "        self.name = name\n",
    "        self.price = price\n",
    "        self.quantity = quantity\n",
    "\n",
    "class ShoppingCart:\n",
    "    def __init__(self):\n",
    "        self.items = []\n",
    "\n",
    "    def add_item(self, product, price, quantity=1):\n",
    "        existing_item = next((item for item in self.items if item.name == product), None)\n",
    "        if existing_item:\n",
    "            existing_item.quantity += quantity\n",
    "        else:\n",
    "            new_item = Item(product, price, quantity)\n",
    "            self.items.append(new_item)\n",
    "\n",
    "    def remove_item(self, product, quantity=1):\n",
    "        existing_item = next((item for item in self.items if item.name == product), None)\n",
    "        if existing_item:\n",
    "            existing_item.quantity -= quantity\n",
    "            if existing_item.quantity <= 0:\n",
    "                self.items.remove(existing_item)\n",
    "\n",
    "    def calculate_total(self):\n",
    "        total = sum(item.price * item.quantity for item in self.items)\n",
    "        return total\n",
    "\n",
    "    def view_cart(self):\n",
    "        for item in self.items:\n",
    "            print(f\"{item.name}: {item.quantity} x ${item.price} each\")\n",
    "\n",
    "# Example usage:\n",
    "cart = ShoppingCart()\n",
    "cart.add_item(\"Item1\", 20.99, 2)\n",
    "cart.add_item(\"Item2\", 15.49, 3)\n",
    "\n",
    "cart.view_cart()\n",
    "print(f\"Total: ${cart.calculate_total()}\")"
   ]
  }
 ],
 "metadata": {
  "kernelspec": {
   "display_name": "Python 3",
   "language": "python",
   "name": "python3"
  },
  "language_info": {
   "codemirror_mode": {
    "name": "ipython",
    "version": 3
   },
   "file_extension": ".py",
   "mimetype": "text/x-python",
   "name": "python",
   "nbconvert_exporter": "python",
   "pygments_lexer": "ipython3",
   "version": "3.12.1"
  },
  "vscode": {
   "interpreter": {
    "hash": "aa82987a71ca0339a52998cd22613b0c002bda8349fa32a0cb67ceec3936a2bf"
   }
  }
 },
 "nbformat": 4,
 "nbformat_minor": 2
}
